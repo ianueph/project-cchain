{
 "cells": [
  {
   "cell_type": "code",
   "execution_count": 1,
   "id": "c76a5329-be9f-4282-ba86-0cc300931f37",
   "metadata": {},
   "outputs": [
    {
     "name": "stdout",
     "output_type": "stream",
     "text": [
      "    tave   tmin   tmax  heat_index   pr  wind_speed     rh  solar_rad  uv_rad  \\\n",
      "0  24.90  23.05  27.55       25.77  2.2        5.23  74.81     154.55   18.75   \n",
      "1  24.67  22.73  27.29       25.38  0.0        4.65  72.92     158.34   19.29   \n",
      "2  24.63  22.76  27.25       25.46  6.4        5.20  75.66     153.93   18.64   \n",
      "3  25.38  23.15  28.33       26.46  0.0        3.72  74.96     178.14   21.64   \n",
      "4  25.27  23.12  28.03       26.20  0.0        3.10  73.44     180.83   21.71   \n",
      "\n",
      "   dentist_nearest  ...  optician_nearest  pharmacy_nearest  pop_count_total  \\\n",
      "0          1461.16  ...           1327.64            153.05         13551.19   \n",
      "1         10000.00  ...           9998.30            949.48         20156.26   \n",
      "2          1800.19  ...           1743.96            300.98         51784.80   \n",
      "3          1461.16  ...           1327.64            153.05         13551.19   \n",
      "4         10000.00  ...           9998.30            949.48         20156.26   \n",
      "\n",
      "   pop_density_mean  dentist_count  doctors_count  hospital_count  \\\n",
      "0          35729.54            4.0            0.0             8.0   \n",
      "1          44536.11            0.0            0.0             0.0   \n",
      "2          11364.11           12.0            4.0            24.0   \n",
      "3          35729.54            7.0            0.0            14.0   \n",
      "4          44536.11            0.0            0.0             0.0   \n",
      "\n",
      "   optician_count  pharmacy_count  case_total  \n",
      "0             4.0            72.0         0.0  \n",
      "1             0.0             4.0         0.0  \n",
      "2             4.0            72.0         0.0  \n",
      "3             7.0           126.0        10.0  \n",
      "4             0.0             7.0         9.0  \n",
      "\n",
      "[5 rows x 22 columns]\n",
      "<class 'pandas.core.frame.DataFrame'>\n",
      "RangeIndex: 1500 entries, 0 to 1499\n",
      "Data columns (total 22 columns):\n",
      " #   Column            Non-Null Count  Dtype  \n",
      "---  ------            --------------  -----  \n",
      " 0   tave              1500 non-null   float64\n",
      " 1   tmin              1500 non-null   float64\n",
      " 2   tmax              1500 non-null   float64\n",
      " 3   heat_index        1500 non-null   float64\n",
      " 4   pr                1500 non-null   float64\n",
      " 5   wind_speed        1500 non-null   float64\n",
      " 6   rh                1500 non-null   float64\n",
      " 7   solar_rad         1500 non-null   float64\n",
      " 8   uv_rad            1500 non-null   float64\n",
      " 9   dentist_nearest   1500 non-null   float64\n",
      " 10  doctors_nearest   1500 non-null   float64\n",
      " 11  hospital_nearest  1500 non-null   float64\n",
      " 12  optician_nearest  1500 non-null   float64\n",
      " 13  pharmacy_nearest  1500 non-null   float64\n",
      " 14  pop_count_total   1500 non-null   float64\n",
      " 15  pop_density_mean  1500 non-null   float64\n",
      " 16  dentist_count     1500 non-null   float64\n",
      " 17  doctors_count     1500 non-null   float64\n",
      " 18  hospital_count    1500 non-null   float64\n",
      " 19  optician_count    1500 non-null   float64\n",
      " 20  pharmacy_count    1500 non-null   float64\n",
      " 21  case_total        1500 non-null   float64\n",
      "dtypes: float64(22)\n",
      "memory usage: 257.9 KB\n",
      "None\n"
     ]
    }
   ],
   "source": [
    "import numpy as np\n",
    "import pandas as pd\n",
    "from sklearn.model_selection import train_test_split, GridSearchCV\n",
    "from sklearn.neighbors import KNeighborsRegressor\n",
    "from sklearn.tree import DecisionTreeRegressor\n",
    "from sklearn.ensemble import RandomForestRegressor\n",
    "from sklearn.metrics import mean_squared_error, mean_absolute_error, r2_score\n",
    "\n",
    "typhoid = pd.read_csv('Cleaned_Typoid_Data.csv')\n",
    "\n",
    "print(typhoid.head())\n",
    "print(typhoid.info())"
   ]
  },
  {
   "cell_type": "code",
   "execution_count": 2,
   "id": "4dc967bb-6dc8-4c24-85eb-e33c933f9a53",
   "metadata": {},
   "outputs": [
    {
     "name": "stdout",
     "output_type": "stream",
     "text": [
      "Train set size: 1050\n",
      "Test set size: 450\n",
      "Total size: 1500\n"
     ]
    }
   ],
   "source": [
    "X = typhoid.iloc[:, :-1]\n",
    "y = typhoid.iloc[:, -1]\n",
    "\n",
    "X_train, X_test, y_train, y_test = train_test_split(X, y, test_size=0.3, random_state=42)\n",
    "\n",
    "print(f\"Train set size: {X_train.shape[0]}\")\n",
    "print(f\"Test set size: {X_test.shape[0]}\")\n",
    "print(f\"Total size: {X_train.shape[0] + X_test.shape[0]}\")"
   ]
  },
  {
   "cell_type": "code",
   "execution_count": 3,
   "id": "8d57aa59-11b0-45bb-b59e-eb02e535076c",
   "metadata": {},
   "outputs": [
    {
     "name": "stdout",
     "output_type": "stream",
     "text": [
      "Best Parameters:  {'algorithm': 'auto', 'leaf_size': 10, 'metric': 'minkowski', 'n_neighbors': 9, 'p': 1, 'weights': 'distance'}\n",
      "Mean Squared Error: 115.04937089999743\n",
      "Root Mean Squared Error (RMSE): 10.726106977836713\n",
      "Mean Absolute Error: 6.4229297072277065\n",
      "R-squared: 0.23164328564669334\n"
     ]
    }
   ],
   "source": [
    "knn = KNeighborsRegressor()\n",
    "\n",
    "param_grid_KNN = {\n",
    "    'n_neighbors': np.arange(1, 31, 2),\n",
    "    'weights': ['uniform', 'distance'],\n",
    "    'algorithm': ['auto', 'ball_tree', 'kd_tree', 'brute'],\n",
    "    'leaf_size': [10, 20, 30, 40, 50],\n",
    "    'metric': ['minkowski', 'manhattan', 'euclidean', 'chebyshev'],\n",
    "    'p': [1, 2]\n",
    "}\n",
    "\n",
    "grid_search = GridSearchCV(knn, param_grid_KNN, cv=5, scoring='neg_mean_squared_error')\n",
    "grid_search.fit(X_train, y_train)\n",
    "\n",
    "best_knn = grid_search.best_estimator_\n",
    "print(\"Best Parameters: \", grid_search.best_params_)\n",
    "\n",
    "y_pred = best_knn.predict(X_test)\n",
    "\n",
    "mse = mean_squared_error(y_test, y_pred)\n",
    "rmse = np.sqrt(mse)\n",
    "mae = mean_absolute_error(y_test, y_pred)\n",
    "r2 = r2_score(y_test, y_pred)\n",
    "\n",
    "print(\"Mean Squared Error:\", mse)\n",
    "print(\"Root Mean Squared Error (RMSE):\", rmse)\n",
    "print(\"Mean Absolute Error:\", mae)\n",
    "print(\"R-squared:\", r2)"
   ]
  },
  {
   "cell_type": "code",
   "execution_count": 4,
   "id": "f3c88908-b457-4741-b588-1e65895b8bb6",
   "metadata": {},
   "outputs": [
    {
     "name": "stdout",
     "output_type": "stream",
     "text": [
      "Best Parameters:  {'ccp_alpha': 0.05, 'criterion': 'poisson', 'max_depth': 15, 'max_features': 'sqrt', 'max_leaf_nodes': 20, 'min_impurity_decrease': 0.0, 'min_samples_leaf': 2, 'min_samples_split': 5}\n",
      "Mean Squared Error: 130.22083237419713\n",
      "Root Mean Squared Error (RMSE): 11.41143428207853\n",
      "Mean Absolute Error: 6.79772458850904\n",
      "R-squared: 0.13032074733932297\n"
     ]
    }
   ],
   "source": [
    "decision_tree = DecisionTreeRegressor()\n",
    "\n",
    "param_grid_DT = {\n",
    "    'criterion': ['friedman_mse', 'poisson'],\n",
    "    'max_depth': [5, 10, 15, 20, None],\n",
    "    'min_samples_split': [2, 5, 10],\n",
    "    'min_samples_leaf': [1, 2, 4],\n",
    "    'max_features': ['sqrt', 'log2', None],\n",
    "    'max_leaf_nodes': [None, 10, 20, 50, 100],\n",
    "    'min_impurity_decrease': [0.0, 0.01, 0.05],\n",
    "    'ccp_alpha': [0.0, 0.01, 0.05]\n",
    "}\n",
    "\n",
    "grid_search = GridSearchCV(decision_tree, param_grid_DT, cv=5, scoring='neg_mean_squared_error')\n",
    "grid_search.fit(X_train, y_train)\n",
    "\n",
    "best_dt = grid_search.best_estimator_\n",
    "print(\"Best Parameters: \", grid_search.best_params_)\n",
    "\n",
    "y_pred = best_dt.predict(X_test)\n",
    "\n",
    "mse = mean_squared_error(y_test, y_pred)\n",
    "rmse = np.sqrt(mse)\n",
    "mae = mean_absolute_error(y_test, y_pred)\n",
    "r2 = r2_score(y_test, y_pred)\n",
    "\n",
    "print(\"Mean Squared Error:\", mse)\n",
    "print(\"Root Mean Squared Error (RMSE):\", rmse)\n",
    "print(\"Mean Absolute Error:\", mae)\n",
    "print(\"R-squared:\", r2)"
   ]
  },
  {
   "cell_type": "code",
   "execution_count": 5,
   "id": "0bd29f4a-1b99-42ad-b121-84ad03b7d876",
   "metadata": {},
   "outputs": [
    {
     "name": "stdout",
     "output_type": "stream",
     "text": [
      "Best Parameters:  {'bootstrap': True, 'ccp_alpha': 0.01, 'criterion': 'poisson', 'max_depth': 20, 'max_features': 'sqrt', 'max_leaf_nodes': None, 'min_impurity_decrease': 0.01, 'min_samples_leaf': 1, 'min_samples_split': 2, 'n_estimators': 100}\n",
      "Mean Squared Error: 99.3644415980052\n",
      "Root Mean Squared Error (RMSE): 9.96817142699729\n",
      "Mean Absolute Error: 6.072016142864895\n",
      "R-squared: 0.3363950165693952\n"
     ]
    }
   ],
   "source": [
    "random_forest = RandomForestRegressor()\n",
    "\n",
    "param_grid_RFR = {\n",
    "    'n_estimators': [100, 200],  \n",
    "    'max_depth': [None, 10, 20],  \n",
    "    'min_samples_split': [2, 5],  \n",
    "    'min_samples_leaf': [1, 2], \n",
    "    'max_features': ['sqrt', 'log2'],  \n",
    "    'criterion': ['friedman_mse', 'poisson'], \n",
    "    'bootstrap': [True],  #\n",
    "    'max_leaf_nodes': [None, 20, 50],  \n",
    "    'min_impurity_decrease': [0.0, 0.01],  \n",
    "    'ccp_alpha': [0.0, 0.01]  \n",
    "}\n",
    "\n",
    "grid_search = GridSearchCV(random_forest, param_grid_RFR, cv=5, scoring='neg_mean_squared_error')\n",
    "grid_search.fit(X_train, y_train)\n",
    "\n",
    "best_rfr = grid_search.best_estimator_\n",
    "print(\"Best Parameters: \", grid_search.best_params_)\n",
    "\n",
    "y_pred = best_rfr.predict(X_test)\n",
    "\n",
    "mse = mean_squared_error(y_test, y_pred)\n",
    "rmse = np.sqrt(mse)\n",
    "mae = mean_absolute_error(y_test, y_pred)\n",
    "r2 = r2_score(y_test, y_pred)\n",
    "\n",
    "print(\"Mean Squared Error:\", mse)\n",
    "print(\"Root Mean Squared Error (RMSE):\", rmse)\n",
    "print(\"Mean Absolute Error:\", mae)\n",
    "print(\"R-squared:\", r2)"
   ]
  },
  {
   "cell_type": "code",
   "execution_count": 27,
   "id": "5ad9fd9a-bccb-4c4e-97d8-f26832b5e548",
   "metadata": {},
   "outputs": [
    {
     "name": "stdout",
     "output_type": "stream",
     "text": [
      "Highest value in column case_total: 116.0\n",
      "Lowest value in column case_total: 0.0\n"
     ]
    }
   ],
   "source": []
  },
  {
   "cell_type": "code",
   "execution_count": null,
   "id": "cabadab4-84cd-4036-bad4-67df225652ef",
   "metadata": {},
   "outputs": [],
   "source": []
  }
 ],
 "metadata": {
  "kernelspec": {
   "display_name": "Python 3",
   "language": "python",
   "name": "python3"
  },
  "language_info": {
   "codemirror_mode": {
    "name": "ipython",
    "version": 3
   },
   "file_extension": ".py",
   "mimetype": "text/x-python",
   "name": "python",
   "nbconvert_exporter": "python",
   "pygments_lexer": "ipython3",
   "version": "3.6.13"
  }
 },
 "nbformat": 4,
 "nbformat_minor": 5
}
