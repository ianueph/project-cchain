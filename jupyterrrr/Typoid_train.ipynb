{
 "cells": [
  {
   "cell_type": "code",
   "execution_count": 1,
   "id": "c76a5329-be9f-4282-ba86-0cc300931f37",
   "metadata": {},
   "outputs": [
    {
     "name": "stdout",
     "output_type": "stream",
     "text": [
      "   Unnamed: 0    tave    tmin    tmax  heat_index     pr  wind_speed      rh  \\\n",
      "0          36  25.556  23.066  28.834      26.434  0.480       3.714  68.282   \n",
      "1          37  24.922  22.712  27.774      25.506  0.286       3.138  67.308   \n",
      "2          38  25.180  22.716  28.438      25.976  0.498       3.692  68.996   \n",
      "3          39  26.608  23.820  30.206      28.102  0.516       2.912  72.240   \n",
      "4          40  26.208  23.546  29.464      27.344  0.468       2.182  70.792   \n",
      "\n",
      "   solar_rad  uv_rad  ...  wind_speed-3.0     rh-1.0     rh-2.0  rh-3.0  \\\n",
      "0    190.046  22.378  ...           2.064  78.245000  78.820000  78.188   \n",
      "1    197.286  23.014  ...           1.524  77.398333  78.062000  78.890   \n",
      "2    189.620  22.312  ...           2.070  78.933333  79.504000  78.668   \n",
      "3    196.138  23.314  ...           3.084  68.282000  78.245000  78.820   \n",
      "4    197.318  23.300  ...           2.536  67.308000  77.398333  78.062   \n",
      "\n",
      "   solar_rad-1.0  solar_rad-2.0  solar_rad-3.0  uv_rad-1.0  uv_rad-2.0  \\\n",
      "0     153.038333     175.394000        192.850   18.603333   21.470000   \n",
      "1     153.863333     174.800000        193.374   18.560000   21.100000   \n",
      "2     154.220000     176.642000        194.846   18.708333   21.580000   \n",
      "3     190.046000     153.038333        175.394   22.378000   18.603333   \n",
      "4     197.286000     153.863333        174.800   23.014000   18.560000   \n",
      "\n",
      "   uv_rad-3.0  \n",
      "0      23.406  \n",
      "1      23.496  \n",
      "2      23.554  \n",
      "3      21.470  \n",
      "4      21.100  \n",
      "\n",
      "[5 rows x 50 columns]\n",
      "<class 'pandas.core.frame.DataFrame'>\n",
      "RangeIndex: 324 entries, 0 to 323\n",
      "Data columns (total 50 columns):\n",
      " #   Column            Non-Null Count  Dtype  \n",
      "---  ------            --------------  -----  \n",
      " 0   Unnamed: 0        324 non-null    int64  \n",
      " 1   tave              324 non-null    float64\n",
      " 2   tmin              324 non-null    float64\n",
      " 3   tmax              324 non-null    float64\n",
      " 4   heat_index        324 non-null    float64\n",
      " 5   pr                324 non-null    float64\n",
      " 6   wind_speed        324 non-null    float64\n",
      " 7   rh                324 non-null    float64\n",
      " 8   solar_rad         324 non-null    float64\n",
      " 9   uv_rad            324 non-null    float64\n",
      " 10  dentist_nearest   324 non-null    float64\n",
      " 11  doctors_nearest   324 non-null    float64\n",
      " 12  hospital_nearest  324 non-null    float64\n",
      " 13  optician_nearest  324 non-null    float64\n",
      " 14  pharmacy_nearest  324 non-null    float64\n",
      " 15  pop_count_total   324 non-null    float64\n",
      " 16  pop_density_mean  324 non-null    float64\n",
      " 17  dentist_count     324 non-null    float64\n",
      " 18  doctors_count     324 non-null    float64\n",
      " 19  hospital_count    324 non-null    float64\n",
      " 20  optician_count    324 non-null    float64\n",
      " 21  pharmacy_count    324 non-null    float64\n",
      " 22  case_total        324 non-null    float64\n",
      " 23  tave-1.0          324 non-null    float64\n",
      " 24  tave-2.0          324 non-null    float64\n",
      " 25  tave-3.0          324 non-null    float64\n",
      " 26  tmin-1.0          324 non-null    float64\n",
      " 27  tmin-2.0          324 non-null    float64\n",
      " 28  tmin-3.0          324 non-null    float64\n",
      " 29  tmax-1.0          324 non-null    float64\n",
      " 30  tmax-2.0          324 non-null    float64\n",
      " 31  tmax-3.0          324 non-null    float64\n",
      " 32  heat_index-1.0    324 non-null    float64\n",
      " 33  heat_index-2.0    324 non-null    float64\n",
      " 34  heat_index-3.0    324 non-null    float64\n",
      " 35  pr-1.0            324 non-null    float64\n",
      " 36  pr-2.0            324 non-null    float64\n",
      " 37  pr-3.0            324 non-null    float64\n",
      " 38  wind_speed-1.0    324 non-null    float64\n",
      " 39  wind_speed-2.0    324 non-null    float64\n",
      " 40  wind_speed-3.0    324 non-null    float64\n",
      " 41  rh-1.0            324 non-null    float64\n",
      " 42  rh-2.0            324 non-null    float64\n",
      " 43  rh-3.0            324 non-null    float64\n",
      " 44  solar_rad-1.0     324 non-null    float64\n",
      " 45  solar_rad-2.0     324 non-null    float64\n",
      " 46  solar_rad-3.0     324 non-null    float64\n",
      " 47  uv_rad-1.0        324 non-null    float64\n",
      " 48  uv_rad-2.0        324 non-null    float64\n",
      " 49  uv_rad-3.0        324 non-null    float64\n",
      "dtypes: float64(49), int64(1)\n",
      "memory usage: 126.7 KB\n",
      "None\n"
     ]
    }
   ],
   "source": [
    "import numpy as np\n",
    "import pandas as pd\n",
    "from sklearn.model_selection import train_test_split, GridSearchCV\n",
    "from sklearn.neighbors import KNeighborsRegressor\n",
    "from sklearn.tree import DecisionTreeRegressor\n",
    "from sklearn.ensemble import RandomForestRegressor\n",
    "from sklearn.metrics import mean_squared_error, mean_absolute_error, r2_score\n",
    "\n",
    "typhoid = pd.read_csv('Cleaned_Typhoid_Data.csv')\n",
    "\n",
    "print(typhoid.head())\n",
    "print(typhoid.info())"
   ]
  },
  {
   "cell_type": "code",
   "execution_count": 2,
   "id": "4dc967bb-6dc8-4c24-85eb-e33c933f9a53",
   "metadata": {},
   "outputs": [
    {
     "name": "stdout",
     "output_type": "stream",
     "text": [
      "Train set size: 226\n",
      "Test set size: 98\n",
      "Total size: 324\n"
     ]
    }
   ],
   "source": [
    "X = typhoid.iloc[:, :-1]\n",
    "y = typhoid.iloc[:, -1]\n",
    "\n",
    "X_train, X_test, y_train, y_test = train_test_split(X, y, test_size=0.3, random_state=42)\n",
    "\n",
    "print(f\"Train set size: {X_train.shape[0]}\")\n",
    "print(f\"Test set size: {X_test.shape[0]}\")\n",
    "print(f\"Total size: {X_train.shape[0] + X_test.shape[0]}\")"
   ]
  },
  {
   "cell_type": "code",
   "execution_count": 3,
   "id": "8d57aa59-11b0-45bb-b59e-eb02e535076c",
   "metadata": {},
   "outputs": [
    {
     "name": "stdout",
     "output_type": "stream",
     "text": [
      "Best Parameters:  {'algorithm': 'auto', 'leaf_size': 10, 'metric': 'minkowski', 'n_neighbors': 3, 'p': 1, 'weights': 'distance'}\n",
      "Mean Squared Error: 8.325132132434181\n",
      "Root Mean Squared Error (RMSE): 2.8853305066203734\n",
      "Mean Absolute Error: 2.253269744048722\n",
      "R-squared: 0.49513849034435964\n"
     ]
    }
   ],
   "source": [
    "knn = KNeighborsRegressor()\n",
    "\n",
    "param_grid_KNN = {\n",
    "    'n_neighbors': np.arange(1, 31, 2),\n",
    "    'weights': ['uniform', 'distance'],\n",
    "    'algorithm': ['auto', 'ball_tree', 'kd_tree', 'brute'],\n",
    "    'leaf_size': [10, 20, 30, 40, 50],\n",
    "    'metric': ['minkowski', 'manhattan', 'euclidean', 'chebyshev'],\n",
    "    'p': [1, 2]\n",
    "}\n",
    "\n",
    "grid_search = GridSearchCV(knn, param_grid_KNN, cv=5, scoring='neg_mean_squared_error')\n",
    "grid_search.fit(X_train, y_train)\n",
    "\n",
    "best_knn = grid_search.best_estimator_\n",
    "print(\"Best Parameters: \", grid_search.best_params_)\n",
    "\n",
    "y_pred = best_knn.predict(X_test)\n",
    "\n",
    "mse = mean_squared_error(y_test, y_pred)\n",
    "rmse = np.sqrt(mse)\n",
    "mae = mean_absolute_error(y_test, y_pred)\n",
    "r2 = r2_score(y_test, y_pred)\n",
    "\n",
    "print(\"Mean Squared Error:\", mse)\n",
    "print(\"Root Mean Squared Error (RMSE):\", rmse)\n",
    "print(\"Mean Absolute Error:\", mae)\n",
    "print(\"R-squared:\", r2)"
   ]
  },
  {
   "cell_type": "code",
   "execution_count": 4,
   "id": "f3c88908-b457-4741-b588-1e65895b8bb6",
   "metadata": {},
   "outputs": [
    {
     "name": "stdout",
     "output_type": "stream",
     "text": [
      "Best Parameters:  {'ccp_alpha': 0.0, 'criterion': 'poisson', 'max_depth': 10, 'max_features': None, 'max_leaf_nodes': None, 'min_impurity_decrease': 0.0, 'min_samples_leaf': 2, 'min_samples_split': 5}\n",
      "Mean Squared Error: 0.16854206997984347\n",
      "Root Mean Squared Error (RMSE): 0.4105387557586293\n",
      "Mean Absolute Error: 0.30540816326530607\n",
      "R-squared: 0.9897790926874297\n"
     ]
    }
   ],
   "source": [
    "decision_tree = DecisionTreeRegressor()\n",
    "\n",
    "param_grid_DT = {\n",
    "    'criterion': ['friedman_mse', 'poisson'],\n",
    "    'max_depth': [5, 10, 15, 20, None],\n",
    "    'min_samples_split': [2, 5, 10],\n",
    "    'min_samples_leaf': [1, 2, 4],\n",
    "    'max_features': ['sqrt', 'log2', None],\n",
    "    'max_leaf_nodes': [None, 10, 20, 50, 100],\n",
    "    'min_impurity_decrease': [0.0, 0.01, 0.05],\n",
    "    'ccp_alpha': [0.0, 0.01, 0.05]\n",
    "}\n",
    "\n",
    "grid_search = GridSearchCV(decision_tree, param_grid_DT, cv=5, scoring='neg_mean_squared_error')\n",
    "grid_search.fit(X_train, y_train)\n",
    "\n",
    "best_dt = grid_search.best_estimator_\n",
    "print(\"Best Parameters: \", grid_search.best_params_)\n",
    "\n",
    "y_pred = best_dt.predict(X_test)\n",
    "\n",
    "mse = mean_squared_error(y_test, y_pred)\n",
    "rmse = np.sqrt(mse)\n",
    "mae = mean_absolute_error(y_test, y_pred)\n",
    "r2 = r2_score(y_test, y_pred)\n",
    "\n",
    "print(\"Mean Squared Error:\", mse)\n",
    "print(\"Root Mean Squared Error (RMSE):\", rmse)\n",
    "print(\"Mean Absolute Error:\", mae)\n",
    "print(\"R-squared:\", r2)"
   ]
  },
  {
   "cell_type": "code",
   "execution_count": 5,
   "id": "0bd29f4a-1b99-42ad-b121-84ad03b7d876",
   "metadata": {},
   "outputs": [
    {
     "name": "stdout",
     "output_type": "stream",
     "text": [
      "Best Parameters:  {'bootstrap': True, 'ccp_alpha': 0.0, 'criterion': 'poisson', 'max_depth': None, 'max_features': 'sqrt', 'max_leaf_nodes': None, 'min_impurity_decrease': 0.0, 'min_samples_leaf': 1, 'min_samples_split': 2, 'n_estimators': 200}\n",
      "Mean Squared Error: 0.43144377563319725\n",
      "Root Mean Squared Error (RMSE): 0.6568437985040259\n",
      "Mean Absolute Error: 0.4854157312925212\n",
      "R-squared: 0.9738359280750518\n"
     ]
    }
   ],
   "source": [
    "random_forest = RandomForestRegressor()\n",
    "\n",
    "param_grid_RFR = {\n",
    "    'n_estimators': [100, 200],  \n",
    "    'max_depth': [None, 10, 20],  \n",
    "    'min_samples_split': [2, 5],  \n",
    "    'min_samples_leaf': [1, 2], \n",
    "    'max_features': ['sqrt', 'log2'],  \n",
    "    'criterion': ['friedman_mse', 'poisson'], \n",
    "    'bootstrap': [True],  #\n",
    "    'max_leaf_nodes': [None, 20, 50],  \n",
    "    'min_impurity_decrease': [0.0, 0.01],  \n",
    "    'ccp_alpha': [0.0, 0.01]  \n",
    "}\n",
    "\n",
    "grid_search = GridSearchCV(random_forest, param_grid_RFR, cv=5, scoring='neg_mean_squared_error')\n",
    "grid_search.fit(X_train, y_train)\n",
    "\n",
    "best_rfr = grid_search.best_estimator_\n",
    "print(\"Best Parameters: \", grid_search.best_params_)\n",
    "\n",
    "y_pred = best_rfr.predict(X_test)\n",
    "\n",
    "mse = mean_squared_error(y_test, y_pred)\n",
    "rmse = np.sqrt(mse)\n",
    "mae = mean_absolute_error(y_test, y_pred)\n",
    "r2 = r2_score(y_test, y_pred)\n",
    "\n",
    "print(\"Mean Squared Error:\", mse)\n",
    "print(\"Root Mean Squared Error (RMSE):\", rmse)\n",
    "print(\"Mean Absolute Error:\", mae)\n",
    "print(\"R-squared:\", r2)"
   ]
  },
  {
   "cell_type": "code",
   "execution_count": null,
   "id": "5ad9fd9a-bccb-4c4e-97d8-f26832b5e548",
   "metadata": {},
   "outputs": [],
   "source": []
  },
  {
   "cell_type": "code",
   "execution_count": null,
   "id": "cabadab4-84cd-4036-bad4-67df225652ef",
   "metadata": {},
   "outputs": [],
   "source": []
  }
 ],
 "metadata": {
  "kernelspec": {
   "display_name": "Python 3 (ipykernel)",
   "language": "python",
   "name": "python3"
  },
  "language_info": {
   "codemirror_mode": {
    "name": "ipython",
    "version": 3
   },
   "file_extension": ".py",
   "mimetype": "text/x-python",
   "name": "python",
   "nbconvert_exporter": "python",
   "pygments_lexer": "ipython3",
   "version": "3.11.5"
  }
 },
 "nbformat": 4,
 "nbformat_minor": 5
}
