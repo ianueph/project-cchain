{
 "cells": [
  {
   "cell_type": "code",
   "execution_count": 2,
   "id": "4d978c8c-e1c5-4758-a7b0-4348b3db7926",
   "metadata": {},
   "outputs": [
    {
     "name": "stdout",
     "output_type": "stream",
     "text": [
      "Requirement already satisfied: numpy in c:\\users\\lord jerome araullo\\anaconda3\\envs\\newtry\\lib\\site-packages (1.19.2)\n",
      "Requirement already satisfied: pandas in c:\\users\\lord jerome araullo\\anaconda3\\envs\\newtry\\lib\\site-packages (1.1.5)\n",
      "Requirement already satisfied: pytz>=2017.2 in c:\\users\\lord jerome araullo\\anaconda3\\envs\\newtry\\lib\\site-packages (from pandas) (2021.3)\n",
      "Requirement already satisfied: python-dateutil>=2.7.3 in c:\\users\\lord jerome araullo\\anaconda3\\envs\\newtry\\lib\\site-packages (from pandas) (2.8.2)\n",
      "Requirement already satisfied: six>=1.5 in c:\\users\\lord jerome araullo\\anaconda3\\envs\\newtry\\lib\\site-packages (from python-dateutil>=2.7.3->pandas) (1.16.0)\n",
      "Requirement already satisfied: scikit-learn in c:\\users\\lord jerome araullo\\anaconda3\\envs\\newtry\\lib\\site-packages (0.24.2)\n",
      "Requirement already satisfied: scipy>=0.19.1 in c:\\users\\lord jerome araullo\\anaconda3\\envs\\newtry\\lib\\site-packages (from scikit-learn) (1.5.2)\n",
      "Requirement already satisfied: threadpoolctl>=2.0.0 in c:\\users\\lord jerome araullo\\anaconda3\\envs\\newtry\\lib\\site-packages (from scikit-learn) (3.1.0)\n",
      "Requirement already satisfied: numpy>=1.13.3 in c:\\users\\lord jerome araullo\\anaconda3\\envs\\newtry\\lib\\site-packages (from scikit-learn) (1.19.2)\n",
      "Requirement already satisfied: joblib>=0.11 in c:\\users\\lord jerome araullo\\anaconda3\\envs\\newtry\\lib\\site-packages (from scikit-learn) (1.1.1)\n",
      "Requirement already satisfied: numpy in c:\\users\\lord jerome araullo\\anaconda3\\envs\\newtry\\lib\\site-packages (1.19.2)\n",
      "Requirement already satisfied: pandas in c:\\users\\lord jerome araullo\\anaconda3\\envs\\newtry\\lib\\site-packages (1.1.5)\n",
      "Requirement already satisfied: scikit-learn in c:\\users\\lord jerome araullo\\anaconda3\\envs\\newtry\\lib\\site-packages (0.24.2)\n",
      "Requirement already satisfied: python-dateutil>=2.7.3 in c:\\users\\lord jerome araullo\\anaconda3\\envs\\newtry\\lib\\site-packages (from pandas) (2.8.2)\n",
      "Requirement already satisfied: pytz>=2017.2 in c:\\users\\lord jerome araullo\\anaconda3\\envs\\newtry\\lib\\site-packages (from pandas) (2021.3)\n",
      "Requirement already satisfied: scipy>=0.19.1 in c:\\users\\lord jerome araullo\\anaconda3\\envs\\newtry\\lib\\site-packages (from scikit-learn) (1.5.2)\n",
      "Requirement already satisfied: threadpoolctl>=2.0.0 in c:\\users\\lord jerome araullo\\anaconda3\\envs\\newtry\\lib\\site-packages (from scikit-learn) (3.1.0)\n",
      "Requirement already satisfied: joblib>=0.11 in c:\\users\\lord jerome araullo\\anaconda3\\envs\\newtry\\lib\\site-packages (from scikit-learn) (1.1.1)\n",
      "Requirement already satisfied: six>=1.5 in c:\\users\\lord jerome araullo\\anaconda3\\envs\\newtry\\lib\\site-packages (from python-dateutil>=2.7.3->pandas) (1.16.0)\n"
     ]
    }
   ],
   "source": [
    "!pip install numpy pandas\n",
    "!pip install scikit-learn\n",
    "!pip install numpy pandas scikit-learn"
   ]
  }
 ],
 "metadata": {
  "kernelspec": {
   "display_name": "Python 3",
   "language": "python",
   "name": "python3"
  },
  "language_info": {
   "codemirror_mode": {
    "name": "ipython",
    "version": 3
   },
   "file_extension": ".py",
   "mimetype": "text/x-python",
   "name": "python",
   "nbconvert_exporter": "python",
   "pygments_lexer": "ipython3",
   "version": "3.6.13"
  }
 },
 "nbformat": 4,
 "nbformat_minor": 5
}
