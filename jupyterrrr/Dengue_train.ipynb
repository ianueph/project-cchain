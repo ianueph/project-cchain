{
 "cells": [
  {
   "cell_type": "code",
   "execution_count": 1,
   "id": "ef071c16-1376-4c7b-a88d-953ffa940b6f",
   "metadata": {},
   "outputs": [],
   "source": [
    "import numpy as np\n",
    "import pandas as pd\n",
    "from sklearn.model_selection import train_test_split, GridSearchCV\n",
    "from sklearn.neighbors import KNeighborsRegressor\n",
    "from sklearn.tree import DecisionTreeRegressor\n",
    "from sklearn.ensemble import RandomForestRegressor\n",
    "from sklearn.metrics import mean_squared_error, mean_absolute_error, r2_score"
   ]
  },
  {
   "cell_type": "code",
   "execution_count": 2,
   "id": "febbf31c-44c0-4675-b7ea-b134778fb6b6",
   "metadata": {},
   "outputs": [
    {
     "name": "stdout",
     "output_type": "stream",
     "text": [
      "     tave    tmin    tmax  heat_index     pr  wind_speed      rh  solar_rad  \\\n",
      "0  25.556  23.066  28.834      26.434  0.480       3.714  68.282    190.046   \n",
      "1  24.922  22.712  27.774      25.506  0.286       3.138  67.308    197.286   \n",
      "2  25.180  22.716  28.438      25.976  0.498       3.692  68.996    189.620   \n",
      "3  26.608  23.820  30.206      28.102  0.516       2.912  72.240    196.138   \n",
      "4  26.208  23.546  29.464      27.344  0.468       2.182  70.792    197.318   \n",
      "\n",
      "   uv_rad  dentist_nearest  ...  wind_speed-3.0     rh-1.0     rh-2.0  rh-3.0  \\\n",
      "0  22.378          10000.0  ...           2.064  78.245000  78.820000  78.188   \n",
      "1  23.014          10000.0  ...           1.524  77.398333  78.062000  78.890   \n",
      "2  22.312          10000.0  ...           2.070  78.933333  79.504000  78.668   \n",
      "3  23.314          10000.0  ...           3.084  68.282000  78.245000  78.820   \n",
      "4  23.300          10000.0  ...           2.536  67.308000  77.398333  78.062   \n",
      "\n",
      "   solar_rad-1.0  solar_rad-2.0  solar_rad-3.0  uv_rad-1.0  uv_rad-2.0  \\\n",
      "0     153.038333     175.394000        192.850   18.603333   21.470000   \n",
      "1     153.863333     174.800000        193.374   18.560000   21.100000   \n",
      "2     154.220000     176.642000        194.846   18.708333   21.580000   \n",
      "3     190.046000     153.038333        175.394   22.378000   18.603333   \n",
      "4     197.286000     153.863333        174.800   23.014000   18.560000   \n",
      "\n",
      "   uv_rad-3.0  \n",
      "0      23.406  \n",
      "1      23.496  \n",
      "2      23.554  \n",
      "3      21.470  \n",
      "4      21.100  \n",
      "\n",
      "[5 rows x 49 columns]\n",
      "<class 'pandas.core.frame.DataFrame'>\n",
      "RangeIndex: 324 entries, 0 to 323\n",
      "Data columns (total 49 columns):\n",
      " #   Column            Non-Null Count  Dtype  \n",
      "---  ------            --------------  -----  \n",
      " 0   tave              324 non-null    float64\n",
      " 1   tmin              324 non-null    float64\n",
      " 2   tmax              324 non-null    float64\n",
      " 3   heat_index        324 non-null    float64\n",
      " 4   pr                324 non-null    float64\n",
      " 5   wind_speed        324 non-null    float64\n",
      " 6   rh                324 non-null    float64\n",
      " 7   solar_rad         324 non-null    float64\n",
      " 8   uv_rad            324 non-null    float64\n",
      " 9   dentist_nearest   324 non-null    float64\n",
      " 10  doctors_nearest   324 non-null    float64\n",
      " 11  hospital_nearest  324 non-null    float64\n",
      " 12  optician_nearest  324 non-null    float64\n",
      " 13  pharmacy_nearest  324 non-null    float64\n",
      " 14  pop_count_total   324 non-null    float64\n",
      " 15  pop_density_mean  324 non-null    float64\n",
      " 16  dentist_count     324 non-null    float64\n",
      " 17  doctors_count     324 non-null    float64\n",
      " 18  hospital_count    324 non-null    float64\n",
      " 19  optician_count    324 non-null    float64\n",
      " 20  pharmacy_count    324 non-null    float64\n",
      " 21  case_total        324 non-null    float64\n",
      " 22  tave-1.0          324 non-null    float64\n",
      " 23  tave-2.0          324 non-null    float64\n",
      " 24  tave-3.0          324 non-null    float64\n",
      " 25  tmin-1.0          324 non-null    float64\n",
      " 26  tmin-2.0          324 non-null    float64\n",
      " 27  tmin-3.0          324 non-null    float64\n",
      " 28  tmax-1.0          324 non-null    float64\n",
      " 29  tmax-2.0          324 non-null    float64\n",
      " 30  tmax-3.0          324 non-null    float64\n",
      " 31  heat_index-1.0    324 non-null    float64\n",
      " 32  heat_index-2.0    324 non-null    float64\n",
      " 33  heat_index-3.0    324 non-null    float64\n",
      " 34  pr-1.0            324 non-null    float64\n",
      " 35  pr-2.0            324 non-null    float64\n",
      " 36  pr-3.0            324 non-null    float64\n",
      " 37  wind_speed-1.0    324 non-null    float64\n",
      " 38  wind_speed-2.0    324 non-null    float64\n",
      " 39  wind_speed-3.0    324 non-null    float64\n",
      " 40  rh-1.0            324 non-null    float64\n",
      " 41  rh-2.0            324 non-null    float64\n",
      " 42  rh-3.0            324 non-null    float64\n",
      " 43  solar_rad-1.0     324 non-null    float64\n",
      " 44  solar_rad-2.0     324 non-null    float64\n",
      " 45  solar_rad-3.0     324 non-null    float64\n",
      " 46  uv_rad-1.0        324 non-null    float64\n",
      " 47  uv_rad-2.0        324 non-null    float64\n",
      " 48  uv_rad-3.0        324 non-null    float64\n",
      "dtypes: float64(49)\n",
      "memory usage: 124.2 KB\n",
      "None\n"
     ]
    }
   ],
   "source": [
    "dengue = pd.read_csv('Cleaned_Dengue_Data.csv')\n",
    "\n",
    "print(dengue.head())\n",
    "print(dengue.info())"
   ]
  },
  {
   "cell_type": "code",
   "execution_count": 3,
   "id": "eed228f1-21cc-4280-9247-85f0bece3a00",
   "metadata": {},
   "outputs": [
    {
     "name": "stdout",
     "output_type": "stream",
     "text": [
      "Train set size: 226\n",
      "Test set size: 98\n",
      "Total size: 324\n"
     ]
    }
   ],
   "source": [
    "X = dengue.iloc[:, :-1]\n",
    "y = dengue.iloc[:, -1]\n",
    "\n",
    "X_train, X_test, y_train, y_test = train_test_split(X, y, test_size=0.3, random_state=42)\n",
    "\n",
    "print(f\"Train set size: {X_train.shape[0]}\")\n",
    "print(f\"Test set size: {X_test.shape[0]}\")\n",
    "print(f\"Total size: {X_train.shape[0] + X_test.shape[0]}\")"
   ]
  },
  {
   "cell_type": "code",
   "execution_count": 4,
   "id": "78e2d0e0-ec51-4cd4-9eb7-dafd3060c8fa",
   "metadata": {},
   "outputs": [
    {
     "name": "stdout",
     "output_type": "stream",
     "text": [
      "Best Parameters:  {'algorithm': 'auto', 'leaf_size': 10, 'metric': 'minkowski', 'n_neighbors': 3, 'p': 1, 'weights': 'distance'}\n"
     ]
    }
   ],
   "source": [
    "knn = KNeighborsRegressor()\n",
    "\n",
    "param_grid_KNN = {\n",
    "    'n_neighbors': np.arange(1, 31, 2),\n",
    "    'weights': ['uniform', 'distance'],\n",
    "    'algorithm': ['auto', 'ball_tree', 'kd_tree', 'brute'],\n",
    "    'leaf_size': [10, 20, 30, 40, 50],\n",
    "    'metric': ['minkowski', 'manhattan', 'euclidean', 'chebyshev'],\n",
    "    'p': [1, 2]\n",
    "}\n",
    "\n",
    "grid_search = GridSearchCV(knn, param_grid_KNN, cv=5, scoring='neg_mean_squared_error')\n",
    "grid_search.fit(X_train, y_train)\n",
    "\n",
    "best_knn = grid_search.best_estimator_\n",
    "print(\"Best Parameters: \", grid_search.best_params_)"
   ]
  },
  {
   "cell_type": "code",
   "execution_count": 5,
   "id": "13d3de50-da66-453a-8c8a-99b1a113d4e5",
   "metadata": {},
   "outputs": [
    {
     "name": "stdout",
     "output_type": "stream",
     "text": [
      "Mean Squared Error: 8.344262830551994\n",
      "Root Mean Squared Error (RMSE): 2.8886437701025014\n",
      "Mean Absolute Error: 2.2577451448743107\n",
      "R-squared: 0.4939783462194517\n"
     ]
    }
   ],
   "source": [
    "y_pred = best_knn.predict(X_test)\n",
    "\n",
    "mse = mean_squared_error(y_test, y_pred)\n",
    "rmse = np.sqrt(mse)\n",
    "mae = mean_absolute_error(y_test, y_pred)\n",
    "r2 = r2_score(y_test, y_pred)\n",
    "\n",
    "print(\"Mean Squared Error:\", mse)\n",
    "print(\"Root Mean Squared Error (RMSE):\", rmse)\n",
    "print(\"Mean Absolute Error:\", mae)\n",
    "print(\"R-squared:\", r2)"
   ]
  },
  {
   "cell_type": "code",
   "execution_count": 6,
   "id": "18e79c5d-d34c-49a3-8189-568cb4d76677",
   "metadata": {},
   "outputs": [
    {
     "name": "stdout",
     "output_type": "stream",
     "text": [
      "Best Parameters:  {'ccp_alpha': 0.0, 'criterion': 'poisson', 'max_depth': 10, 'max_features': None, 'max_leaf_nodes': None, 'min_impurity_decrease': 0.0, 'min_samples_leaf': 2, 'min_samples_split': 5}\n"
     ]
    }
   ],
   "source": [
    "decision_tree = DecisionTreeRegressor()\n",
    "\n",
    "param_grid_DT = {\n",
    "    'criterion': ['friedman_mse', 'poisson'],\n",
    "    'max_depth': [5, 10, 15, 20, None],\n",
    "    'min_samples_split': [2, 5, 10],\n",
    "    'min_samples_leaf': [1, 2, 4],\n",
    "    'max_features': ['sqrt', 'log2', None],\n",
    "    'max_leaf_nodes': [None, 10, 20, 50, 100],\n",
    "    'min_impurity_decrease': [0.0, 0.01, 0.05],\n",
    "    'ccp_alpha': [0.0, 0.01, 0.05]\n",
    "}\n",
    "\n",
    "grid_search = GridSearchCV(decision_tree, param_grid_DT, cv=5, scoring='neg_mean_squared_error')\n",
    "grid_search.fit(X_train, y_train)\n",
    "\n",
    "best_dt = grid_search.best_estimator_\n",
    "print(\"Best Parameters: \", grid_search.best_params_)"
   ]
  },
  {
   "cell_type": "code",
   "execution_count": 7,
   "id": "0b9f8876-8387-4545-8294-26898b692695",
   "metadata": {},
   "outputs": [
    {
     "name": "stdout",
     "output_type": "stream",
     "text": [
      "Mean Squared Error: 0.1689725256676747\n",
      "Root Mean Squared Error (RMSE): 0.411062678514694\n",
      "Mean Absolute Error: 0.30353798185941083\n",
      "R-squared: 0.9897529885361752\n"
     ]
    }
   ],
   "source": [
    "y_pred = best_dt.predict(X_test)\n",
    "\n",
    "mse = mean_squared_error(y_test, y_pred)\n",
    "rmse = np.sqrt(mse)\n",
    "mae = mean_absolute_error(y_test, y_pred)\n",
    "r2 = r2_score(y_test, y_pred)\n",
    "\n",
    "print(\"Mean Squared Error:\", mse)\n",
    "print(\"Root Mean Squared Error (RMSE):\", rmse)\n",
    "print(\"Mean Absolute Error:\", mae)\n",
    "print(\"R-squared:\", r2)"
   ]
  },
  {
   "cell_type": "code",
   "execution_count": 8,
   "id": "9d8f6cf2-9a0d-4647-a23a-c61e051afae9",
   "metadata": {},
   "outputs": [
    {
     "name": "stdout",
     "output_type": "stream",
     "text": [
      "Best Parameters:  {'bootstrap': True, 'ccp_alpha': 0.0, 'criterion': 'friedman_mse', 'max_depth': 20, 'max_features': 'sqrt', 'max_leaf_nodes': None, 'min_impurity_decrease': 0.0, 'min_samples_leaf': 1, 'min_samples_split': 2, 'n_estimators': 100}\n"
     ]
    }
   ],
   "source": [
    "random_forest = RandomForestRegressor()\n",
    "\n",
    "param_grid_RFR = {\n",
    "    'n_estimators': [100, 200], \n",
    "    'max_depth': [None, 10, 20], \n",
    "    'min_samples_split': [2, 5], \n",
    "    'min_samples_leaf': [1, 2],  \n",
    "    'max_features': ['sqrt', 'log2'],\n",
    "    'criterion': ['friedman_mse', 'poisson'], \n",
    "    'bootstrap': [True],  \n",
    "    'max_leaf_nodes': [None, 20, 50], \n",
    "    'min_impurity_decrease': [0.0, 0.01],  \n",
    "    'ccp_alpha': [0.0, 0.01]  \n",
    "}\n",
    "\n",
    "grid_search = GridSearchCV(random_forest, param_grid_RFR, cv=5, scoring='neg_mean_squared_error')\n",
    "grid_search.fit(X_train, y_train)\n",
    "\n",
    "best_rfr = grid_search.best_estimator_\n",
    "print(\"Best Parameters: \", grid_search.best_params_)"
   ]
  },
  {
   "cell_type": "code",
   "execution_count": 9,
   "id": "4441d673-f4b7-4580-909d-318ec0c75919",
   "metadata": {},
   "outputs": [
    {
     "name": "stdout",
     "output_type": "stream",
     "text": [
      "Mean Squared Error: 0.49717047696690025\n",
      "Root Mean Squared Error (RMSE): 0.7051031676052095\n",
      "Mean Absolute Error: 0.5261904761904806\n",
      "R-squared: 0.9698500596068818\n"
     ]
    }
   ],
   "source": [
    "y_pred = best_rfr.predict(X_test)\n",
    "\n",
    "mse = mean_squared_error(y_test, y_pred)\n",
    "rmse = np.sqrt(mse)\n",
    "mae = mean_absolute_error(y_test, y_pred)\n",
    "r2 = r2_score(y_test, y_pred)\n",
    "\n",
    "print(\"Mean Squared Error:\", mse)\n",
    "print(\"Root Mean Squared Error (RMSE):\", rmse)\n",
    "print(\"Mean Absolute Error:\", mae)\n",
    "print(\"R-squared:\", r2)"
   ]
  },
  {
   "cell_type": "code",
   "execution_count": null,
   "id": "be05d625-4272-4b66-b9f8-552fb2fa1096",
   "metadata": {},
   "outputs": [],
   "source": []
  },
  {
   "cell_type": "code",
   "execution_count": null,
   "id": "00bb520c-b24f-4f45-b344-a0d6cbde8f7a",
   "metadata": {},
   "outputs": [],
   "source": []
  }
 ],
 "metadata": {
  "kernelspec": {
   "display_name": "Python 3 (ipykernel)",
   "language": "python",
   "name": "python3"
  },
  "language_info": {
   "codemirror_mode": {
    "name": "ipython",
    "version": 3
   },
   "file_extension": ".py",
   "mimetype": "text/x-python",
   "name": "python",
   "nbconvert_exporter": "python",
   "pygments_lexer": "ipython3",
   "version": "3.11.5"
  }
 },
 "nbformat": 4,
 "nbformat_minor": 5
}
